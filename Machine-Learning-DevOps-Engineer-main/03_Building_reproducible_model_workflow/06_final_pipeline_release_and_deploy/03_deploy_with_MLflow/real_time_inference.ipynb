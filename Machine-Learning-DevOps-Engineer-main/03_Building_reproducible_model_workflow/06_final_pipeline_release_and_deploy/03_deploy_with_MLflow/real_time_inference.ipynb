{
 "cells": [
  {
   "cell_type": "code",
   "execution_count": 1,
   "id": "ae3e865a-dd65-41bf-9bbb-455ba9630a44",
   "metadata": {},
   "outputs": [],
   "source": [
    "import requests\n",
    "import json"
   ]
  },
  {
   "cell_type": "code",
   "execution_count": 13,
   "id": "02067d01-aa1d-477a-95f4-4f0b52027e1c",
   "metadata": {},
   "outputs": [],
   "source": [
    "with open(\"model/input_example.json\") as fp:\n",
    "    data = json.load(fp)"
   ]
  },
  {
   "cell_type": "code",
   "execution_count": 14,
   "id": "42e70506-0ee8-44dd-bac6-a0e9ebbbe0eb",
   "metadata": {},
   "outputs": [],
   "source": [
    "results = requests.post(\"http://localhost:5000/invocations\", json=data)"
   ]
  },
  {
   "cell_type": "code",
   "execution_count": 15,
   "id": "b8baf458-cb83-40d3-bb5a-d9d847f3a817",
   "metadata": {},
   "outputs": [
    {
     "data": {
      "text/plain": [
       "<Response [400]>"
      ]
     },
     "execution_count": 15,
     "metadata": {},
     "output_type": "execute_result"
    }
   ],
   "source": [
    "results"
   ]
  },
  {
   "cell_type": "code",
   "execution_count": null,
   "id": "c4178963-28e2-460c-bb43-a9e3cea5502a",
   "metadata": {},
   "outputs": [],
   "source": []
  }
 ],
 "metadata": {
  "kernelspec": {
   "display_name": "Python 3 (ipykernel)",
   "language": "python",
   "name": "python3"
  },
  "language_info": {
   "codemirror_mode": {
    "name": "ipython",
    "version": 3
   },
   "file_extension": ".py",
   "mimetype": "text/x-python",
   "name": "python",
   "nbconvert_exporter": "python",
   "pygments_lexer": "ipython3",
   "version": "3.9.19"
  }
 },
 "nbformat": 4,
 "nbformat_minor": 5
}
